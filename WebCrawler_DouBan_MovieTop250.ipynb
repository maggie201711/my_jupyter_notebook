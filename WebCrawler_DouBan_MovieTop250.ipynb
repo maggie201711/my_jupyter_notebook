{
 "cells": [
  {
   "cell_type": "markdown",
   "metadata": {},
   "source": [
    "# 爬虫 - 爬豆瓣Top 250"
   ]
  },
  {
   "cell_type": "markdown",
   "metadata": {},
   "source": [
    "###### how to page N\n",
    "###### page 1: https://movie.douban.com/top250\n",
    "###### page 1尝试可以写成: https://movie.douban.com/top250?start=0&filter=\n",
    "###### page 2: https://movie.douban.com/top250?start=25&filter=\n",
    "###### page 3: https://movie.douban.com/top250?start=50&filter="
   ]
  },
  {
   "cell_type": "markdown",
   "metadata": {},
   "source": [
    "### import libs"
   ]
  },
  {
   "cell_type": "code",
   "execution_count": 42,
   "metadata": {},
   "outputs": [],
   "source": [
    "import requests\n",
    "from bs4 import BeautifulSoup "
   ]
  },
  {
   "cell_type": "markdown",
   "metadata": {},
   "source": [
    "### Define GetHTML function"
   ]
  },
  {
   "cell_type": "code",
   "execution_count": 43,
   "metadata": {},
   "outputs": [],
   "source": [
    "def GetHTML(url):\n",
    "    # define headers\n",
    "    headers = {'User-Agent':'Mozilla/5.0 (Windows NT 6.3; WOW64) AppleWebKit/537.36 (KHTML, like Gecko) Chrome/63.0.3239.132 Safari/537.36'}\n",
    "    response = requests.get(url,headers=headers)\n",
    "    html = response.text\n",
    "    return html\n",
    "    "
   ]
  },
  {
   "cell_type": "markdown",
   "metadata": {},
   "source": [
    "### Define AnalysisHTML function"
   ]
  },
  {
   "cell_type": "code",
   "execution_count": 44,
   "metadata": {},
   "outputs": [],
   "source": [
    "def AnalysisHTML(html):\n",
    "    list=[]\n",
    "    mysoup = BeautifulSoup(html, 'lxml') # need this\n",
    "    result = mysoup.find('ol')\n",
    "    movie_list = result.find_all('li')\n",
    "    for movie in movie_list:\n",
    "        name = movie.find('span',attrs={'class':'title'}).get_text()\n",
    "        list.append(name)\n",
    "    return list"
   ]
  },
  {
   "cell_type": "markdown",
   "metadata": {},
   "source": [
    "### Save Results to Txt"
   ]
  },
  {
   "cell_type": "code",
   "execution_count": 45,
   "metadata": {},
   "outputs": [],
   "source": [
    "def SaveResult(result,filename=\"result.txt\"):\n",
    "    with open(filename, 'w') as f:   # no  need fclose\n",
    "        for r in result:\n",
    "            f.write(r + '\\n')"
   ]
  },
  {
   "cell_type": "markdown",
   "metadata": {},
   "source": [
    "### search all the pages "
   ]
  },
  {
   "cell_type": "code",
   "execution_count": 48,
   "metadata": {},
   "outputs": [
    {
     "name": "stdout",
     "output_type": "stream",
     "text": [
      "['肖申克的救赎', '霸王别姬', '阿甘正传', '这个杀手不太冷', '美丽人生', '泰坦尼克号', '千与千寻', '辛德勒的名单', '盗梦空间', '忠犬八公的故事', '海上钢琴师', '机器人总动员', '三傻大闹宝莱坞', '楚门的世界', '放牛班的春天', '星际穿越', '大话西游之大圣娶亲', '熔炉', '疯狂动物城', '无间道', '龙猫', '教父', '当幸福来敲门', '怦然心动', '触不可及', '蝙蝠侠：黑暗骑士', '控方证人', '活着', '乱世佳人', '末代皇帝', '摔跤吧！爸爸', '寻梦环游记', '少年派的奇幻漂流', '指环王3：王者无敌', '飞屋环游记', '十二怒汉', '鬼子来了', '天空之城', '何以为家', '大话西游之月光宝盒', '哈尔的移动城堡', '天堂电影院', '素媛', '罗马假日', '闻香识女人', '辩护人', '搏击俱乐部', '哈利·波特与魔法石', '死亡诗社', '窃听风暴', '教父2', '狮子王', '指环王2：双塔奇兵', '我不是药神', '大闹天宫', '两杆大烟枪', '指环王1：魔戒再现', '飞越疯人院', '美丽心灵', '饮食男女', 'V字仇杀队', '黑客帝国', '猫鼠游戏', '钢琴家', '本杰明·巴顿奇事', '看不见的客人', '让子弹飞', '海豚湾', '西西里的美丽传说', '情书', '拯救大兵瑞恩', '小鞋子', '美国往事', '音乐之声', '穿条纹睡衣的男孩', '致命魔术', '七宗罪', '低俗小说', '沉默的羔羊', '被嫌弃的松子的一生', '蝴蝶效应', '绿皮书', '春光乍泄', '禁闭岛', '心灵捕手', '布达佩斯大饭店', '勇敢的心', '剪刀手爱德华', '海蒂和爷爷', '阿凡达', '天使爱美丽', '摩登时代', '加勒比海盗', '致命ID', '喜剧之王', '断背山', '幽灵公主', '杀人回忆', '入殓师', '狩猎', '阳光灿烂的日子', '重庆森林', '第六感', '请以你的名字呼唤我', '小森林 夏秋篇', '哈利·波特与死亡圣器(下)', '消失的爱人', '7号房的礼物', '玛丽和马克思', '红辣椒', '爱在黎明破晓前', '告白', '一一', '侧耳倾听', '小森林 冬春篇', '大鱼', '阳光姐妹淘', '射雕英雄传之东成西就', '蝙蝠侠：黑暗骑士崛起', '唐伯虎点秋香', '超脱', '倩女幽魂', '甜蜜蜜', '驯龙高手', '恐怖直播', '萤火之森', '菊次郎的夏天', '幸福终点站', '爱在日落黄昏时', '超能陆战队', '无人知晓', '借东西的小人阿莉埃蒂', '神偷奶爸', '怪兽电力公司', '风之谷', '玩具总动员3', '完美的世界', '上帝之城', '血战钢锯岭', '电锯惊魂', '傲慢与偏见', '时空恋旅人', '喜宴', '谍影重重3', '教父3', '岁月神偷', '英雄本色', '七武士', '被解救的姜戈', '疯狂原始人', '功夫', '真爱至上', '三块广告牌', '萤火虫之墓', '心迷宫', '哪吒闹海', '纵横四海', '天书奇谭', '我是山姆', '达拉斯买家俱乐部', '爆裂鼓手', '东邪西毒', '记忆碎片', '贫民窟的百万富翁', '荒蛮故事', '黑天鹅', '头号玩家', '花样年华', '你的名字。', '卢旺达饭店', '人生果实', '釜山行', '雨人', '忠犬八公物语', '头脑特工队', '模仿游戏', '一个叫欧维的男人决定去死', '黑客帝国3：矩阵革命', '你看起来好像很好吃', '无敌破坏王', '未麻的部屋', '恋恋笔记本', '冰川时代', '海边的曼彻斯特', '二十二', '海街日记', '哈利·波特与阿兹卡班的囚徒', '虎口脱险', '新世界', '房间', '雨中曲', '恐怖游轮', '人工智能', '魔女宅急便', '惊魂记', '哈利·波特与密室', '海洋', '奇迹男孩', '疯狂的石头', '罗生门', '燃情岁月', '终结者2：审判日', '穿越时空的少女', '魂断蓝桥', '爱在午夜降临前', '初恋这件小事', '可可西里', '2001太空漫游', '完美陌生人', '牯岭街少年杀人事件', '绿里奇迹', '小偷家族', '阿飞正传', '香水', '无耻混蛋', '谍影重重2', '猜火车', '新龙门客栈', '谍影重重', '战争之王', '青蛇', '源代码', '地球上的星星', '城市之光', '血钻', '浪潮', '朗读者', '彗星来的那一夜', '步履不停', '疯狂的麦克斯4：狂暴之路', '遗愿清单', '色，戒', '大佛普拉斯', '再次出发之纽约遇见你', '小萝莉的猴神大叔', '追随', '东京物语', '聚焦', '一次别离', '驴得水', '黑鹰坠落', '我爱你', '发条橙', '千钧一发', 'E.T. 外星人', '撞车', '网络谜踪', '四个春天', '梦之安魂曲', '变脸']\n"
     ]
    }
   ],
   "source": [
    "# how to page N\n",
    "# page 1: https://movie.douban.com/top250\n",
    "# page 1尝试可以写成: https://movie.douban.com/top250?start=0&filter=\n",
    "# page 2: https://movie.douban.com/top250?start=25&filter=\n",
    "# page 3: https://movie.douban.com/top250?start=50&filter=\n",
    "\n",
    "url = url=\"https://movie.douban.com/top250\"\n",
    "movies_list = []\n",
    "num = 0\n",
    "while num < 250:\n",
    "    url_page = url + '?start=' + str(num) + '&filter='\n",
    "    #print(url_page)\n",
    "    html = GetHTML(url_page)\n",
    "    #print(html)\n",
    "    movie_per_page = AnalysisHTML(html)\n",
    "    for movie in movie_per_page:\n",
    "        movies_list.append(movie)\n",
    "    num = num + 25\n",
    "\n",
    "#print(movies_list)\n",
    "SaveResult(movies_list)"
   ]
  },
  {
   "cell_type": "code",
   "execution_count": null,
   "metadata": {},
   "outputs": [],
   "source": []
  },
  {
   "cell_type": "code",
   "execution_count": null,
   "metadata": {},
   "outputs": [],
   "source": []
  },
  {
   "cell_type": "code",
   "execution_count": null,
   "metadata": {},
   "outputs": [],
   "source": []
  }
 ],
 "metadata": {
  "kernelspec": {
   "display_name": "Python 3",
   "language": "python",
   "name": "python3"
  },
  "language_info": {
   "codemirror_mode": {
    "name": "ipython",
    "version": 3
   },
   "file_extension": ".py",
   "mimetype": "text/x-python",
   "name": "python",
   "nbconvert_exporter": "python",
   "pygments_lexer": "ipython3",
   "version": "3.7.1"
  }
 },
 "nbformat": 4,
 "nbformat_minor": 2
}
